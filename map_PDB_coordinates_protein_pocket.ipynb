{
 "cells": [
  {
   "cell_type": "code",
   "execution_count": 3,
   "metadata": {
    "collapsed": false
   },
   "outputs": [
    {
     "data": {
      "text/plain": [
       "chain_id\n",
       "A     6\n",
       "B    34\n",
       "Name: chain_id, dtype: int64"
      ]
     },
     "execution_count": 3,
     "metadata": {},
     "output_type": "execute_result"
    }
   ],
   "source": [
    "from biopandas.pdb import PandasPDB\n",
    "protein = PandasPDB().read_pdb('./1ajp_protein.pdb')\n",
    "pocket = PandasPDB().read_pdb('1ajp_pocket.pdb')\n",
    "prodf = protein.df['ATOM'][protein.df['ATOM']['atom_name']== 'CA'][['chain_id','residue_number','x_coord','y_coord','z_coord']]\n",
    "prodf['coor']= prodf[prodf.columns[2:]].astype(str).sum(axis=1)\n",
    "pockdf = pocket.df['ATOM'][pocket.df['ATOM']['atom_name']== 'CA'][['x_coord','y_coord','z_coord']]\n",
    "pockdf['coor'] = pocket.df['ATOM'][pocket.df['ATOM']['atom_name']== 'CA'][['x_coord','y_coord','z_coord']].astype(str).sum(axis=1)\n",
    "pock_chaindf= prodf[prodf.coor.isin(pockdf.coor)]\n",
    "pock_chaindf.groupby('chain_id')['chain_id'].count()"
   ]
  },
  {
   "cell_type": "code",
   "execution_count": null,
   "metadata": {
    "collapsed": true
   },
   "outputs": [],
   "source": []
  }
 ],
 "metadata": {
  "kernelspec": {
   "display_name": "Python 2",
   "language": "python",
   "name": "python2"
  },
  "language_info": {
   "codemirror_mode": {
    "name": "ipython",
    "version": 2
   },
   "file_extension": ".py",
   "mimetype": "text/x-python",
   "name": "python",
   "nbconvert_exporter": "python",
   "pygments_lexer": "ipython2",
   "version": "2.7.11"
  }
 },
 "nbformat": 4,
 "nbformat_minor": 0
}
